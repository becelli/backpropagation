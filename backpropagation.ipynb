{
  "cells": [
    {
      "cell_type": "code",
      "execution_count": 147,
      "metadata": {},
      "outputs": [],
      "source": [
        "import numpy as np\n",
        "import matplotlib.pyplot as plt\n",
        "import pandas as pd\n",
        "from numba import njit\n",
        "import random\n"
      ]
    },
    {
      "cell_type": "code",
      "execution_count": 148,
      "metadata": {
        "id": "vl3oTWgKJQwB"
      },
      "outputs": [],
      "source": [
        "# Backpropagation algorithm\n",
        "# default config for the backpropagation algo\n",
        "l_rate = 0.001\n",
        "max_it = 150\n",
        "min_error = 0.1\n",
        "# obs: changing the learning_rate and the initial weight can improve the performance\n",
        "# the current config is the optimal config found for the hyperbolic tangent until this moment\n",
        "\n",
        "# open the csv file and get the data\n",
        "\n",
        "\n",
        "def get_training_data(filename):\n",
        "    with open(filename) as f:\n",
        "        data = pd.read_csv(f)\n",
        "        data = data.values\n",
        "    return data\n",
        "\n",
        "# choose which curve will be used by the neurons of the net\n",
        "\n",
        "# @njit(parallel=True, fastmath=True, cache=True)\n",
        "\n",
        "@njit(cache=True)\n",
        "def fx_tanh(x: np.ndarray) -> np.ndarray:\n",
        "    return np.tanh(x)\n",
        "\n",
        "@njit(cache=True)\n",
        "def d_fx_tanh(x: np.ndarray) -> np.ndarray:\n",
        "    return (1.0/np.cosh(x))**2.0\n",
        "\n",
        "@njit(cache=True)\n",
        "def fx_logistic(x: np.ndarray) -> np.ndarray:\n",
        "    return 1.0/(1+np.exp(-x))\n",
        "\n",
        "@njit(cache=True)\n",
        "def d_fx_logistic(x: np.ndarray) -> np.ndarray:\n",
        "    return np.exp(x)/(1+np.exp(x))**2.0\n",
        "\n",
        "# @njit(cache=True)\n",
        "def choose_curve(is_logistic: bool) -> tuple:\n",
        "    if is_logistic:\n",
        "        return fx_logistic, d_fx_logistic\n",
        "    else:\n",
        "        return fx_tanh, d_fx_tanh\n",
        "\n",
        "# initialize the weights as small random values\n",
        "\n",
        "\n",
        "@njit(cache=True)\n",
        "def initialize_weights(num_classes: int, num_features: int):\n",
        "    # number of inputs (class features)\n",
        "    num_inputs = num_features\n",
        "    # number of output neurons\n",
        "    num_outputs = num_classes\n",
        "    # number of hidden neurons (geometry mean of inputs and outputs)\n",
        "    num_hidden = int(np.sqrt(num_inputs*num_outputs))\n",
        "    # initialize the weights\n",
        "    # add 0.005 in order to prevent 0\n",
        "    weight_hidden = np.random.rand(num_hidden, num_inputs)/100.0 + 0.0005\n",
        "    weight_output = np.random.rand(num_outputs, num_hidden) * 3.0 - 1.5\n",
        "    # initialize the bias, in this case all bias = 0\n",
        "    bias_hidden = np.zeros((num_hidden, num_inputs))\n",
        "    bias_output = np.zeros((num_outputs, num_hidden))\n",
        "    return weight_hidden, weight_output, bias_hidden, bias_output\n",
        "\n",
        "# calculate the output from each neuron of the given layer\n",
        "# each layer is described by set of weights of each neuron\n",
        "\n",
        "\n",
        "def calculate_layer(weights_layer, fx, layer_inputs):\n",
        "    net: np.ndarray = np.dot(layer_inputs, weights_layer.T)\n",
        "    output = fx(net)\n",
        "    return output\n",
        "\n",
        "# calculate the expected output for the class\n",
        "\n",
        "\n",
        "# @njit(cache=True)\n",
        "def calculate_expected_values(is_logistic, class_number, num_classes):\n",
        "    if is_logistic:\n",
        "        expected_values = np.zeros(num_classes)\n",
        "        expected_values[class_number-1] = 1\n",
        "        return expected_values\n",
        "    else:\n",
        "        expected_values = np.full(num_classes, -1)\n",
        "        expected_values[class_number-1] = 1\n",
        "        return expected_values\n",
        "\n",
        "# calculate the error for the output layer\n",
        "\n",
        "@njit(cache=True)\n",
        "def calculate_output_error(is_logistic, weights, expected, attained, inputs, fx, d_fx):\n",
        "    error = (expected - attained)*d_fx(inputs)\n",
        "    return error\n",
        "\n",
        "# calculate the error for the hidden layer\n",
        "# needs revision\n",
        "\n",
        "def calculate_hidden_error(is_logistic, weights_hidden, weights_output, error_output, inputs, fx, d_fx):\n",
        "    error = error_output @ weights_output\n",
        "    hidden = inputs @ weights_hidden.T\n",
        "    return  error*d_fx(hidden)\n",
        "    # return error\n",
        "\n",
        "\n",
        "# adjust the weights of a given layer according to the layer error\n",
        "\n",
        "@njit(cache=True)\n",
        "def adjust_weights(weights, learning_rate, error, layer_input):\n",
        "    new_weights = np.zeros(weights.shape)\n",
        "    for i in range(len(weights)):\n",
        "        new_weights[i] = weights[i] + learning_rate*error[i]*layer_input\n",
        "    return new_weights\n",
        "    \n"
      ]
    },
    {
      "cell_type": "markdown",
      "metadata": {},
      "source": []
    },
    {
      "attachments": {},
      "cell_type": "markdown",
      "metadata": {
        "id": "jFC-QSLkbCa0"
      },
      "source": [
        "Treinamento da rede\n"
      ]
    },
    {
      "cell_type": "code",
      "execution_count": 149,
      "metadata": {
        "id": "r9ysPZI6bBgt"
      },
      "outputs": [
        {
          "data": {
            "text/plain": [
              "''"
            ]
          },
          "execution_count": 149,
          "metadata": {},
          "output_type": "execute_result"
        }
      ],
      "source": [
        "#training with an unbalanced dataset\n",
        "#train a neuron net with a specificied curve and data\n",
        "def train_through_data(is_logistic, data):\n",
        "  #get information from the dataset\n",
        "  num_classes = np.unique(data[:, -1]).size\n",
        "  num_features = data.shape[1] - 1\n",
        "  sample_size = data.shape[0]\n",
        "\n",
        "  # remove the last column from the inputs list, i.e., remove the class type from inputs\n",
        "  inputs = np.delete(data, len(data[0])-1, 1)\n",
        "  \n",
        "  #initialize the initial weights\n",
        "  weight_hidden, weight_output, bias_hidden, bias_output = initialize_weights(num_classes, num_features)\n",
        "  #get the function for the choosen curve\n",
        "  fx, d_fx = choose_curve(is_logistic)\n",
        "  \n",
        "  \n",
        "  #train until max_it\n",
        "  for j in range(0, max_it):\n",
        "    #train the net for sample in dataset\n",
        "    for i in range(0, sample_size):\n",
        "      #choose a random sample in order to prevent overfitting\n",
        "      new_i = random.randint(0, sample_size-1)\n",
        "      \n",
        "      #calculate the expected value for this set of features\n",
        "      expected_values = calculate_expected_values(is_logistic, data[new_i][-1], num_classes)\n",
        "      \n",
        "      #calculate the value for the hidden layer and the output layer\n",
        "      hidden_values = calculate_layer(weight_hidden, fx, inputs[new_i])\n",
        "      output_values = calculate_layer(weight_output, fx, hidden_values)\n",
        "      \n",
        "      #calculate the error for each layer\n",
        "      error_output_layer = calculate_output_error(is_logistic, weight_output, expected_values, output_values, hidden_values, fx, d_fx)\n",
        "      error_hidden_layer = calculate_hidden_error(is_logistic, weight_hidden, weight_output, error_output_layer, inputs[new_i], fx, d_fx)\n",
        "      \n",
        "      #adjust weights for each layer\n",
        "      weight_output = adjust_weights(weight_output, l_rate, error_output_layer, hidden_values)\n",
        "      weight_hidden = adjust_weights(weight_hidden, l_rate, error_hidden_layer, inputs[new_i])\n",
        "    if(j % 100 == 0):\n",
        "      print(j)\n",
        "  #return the trained values for each layer\n",
        "  return weight_hidden, weight_output\n",
        "\n",
        "\n",
        "\n",
        "# #experimental training with a balanced dataset\n",
        "# def train_through_data(is_logistic, data):\n",
        "#   #get information from the dataset\n",
        "#   num_classes = np.unique(data[:, -1]).size\n",
        "#   num_features = data.shape[1] - 1\n",
        "#   sample_size = len(data)\n",
        "\n",
        "#   #initialize the initial weights\n",
        "#   weight_hidden, weight_output, bias_hidden, bias_output = initialize_weights(num_classes, num_features)\n",
        "#   #get the function for the choosen curve\n",
        "#   fx, d_fx = choose_curve(is_logistic)\n",
        "  \n",
        "#   current_class = 1\n",
        "\n",
        "#   #train until max_it\n",
        "#   for j in range(0, max_it):\n",
        "#     #train the net for sample in dataset\n",
        "#     for i in range(0, sample_size):\n",
        "#       #choose a random sample in order to prevent overfitting\n",
        "#       sample = choose_sample(current_class, data)\n",
        "      \n",
        "#       #separate the class from the inputs list, i.e., remove the class type from inputs\n",
        "#       sample_class = sample[-1]\n",
        "#       inputs = np.delete(sample, len(sample)-1, 0)\n",
        "\n",
        "#       #calculate the expected value for this set of features\n",
        "#       expected_values = calculate_expected_values(is_logistic, sample_class, num_classes)\n",
        "      \n",
        "#       #calculate the value for the hidden layer and the output layer\n",
        "#       hidden_values = calculate_layer(weight_hidden, fx, inputs)\n",
        "#       output_values = calculate_layer(weight_output, fx, hidden_values)\n",
        "      \n",
        "#       #calculate the error for each layer\n",
        "#       error_output_layer = calculate_output_error(is_logistic, weight_output, expected_values, output_values, hidden_values)\n",
        "#       error_hidden_layer = calculate_hidden_error(is_logistic, weight_hidden, weight_output, error_output_layer, inputs)\n",
        "#       #print(\"Expected: \")\n",
        "#       #print(expected_values)\n",
        "#       #print(\"Output: \")\n",
        "#       #print(output_values)\n",
        "      \n",
        "#       #adjust weights for each layer\n",
        "#       weight_output = adjust_weights(weight_output, l_rate, error_output_layer, hidden_values)\n",
        "#       weight_hidden = adjust_weights(weight_hidden, l_rate, error_hidden_layer, inputs)\n",
        "\n",
        "#       current_class %= num_classes\n",
        "#       current_class += 1\n",
        "#     if(j % 100 == 0):\n",
        "#       print(j)\n",
        "#   #return the trained values for each layer\n",
        "#   return weight_hidden, weight_output\n",
        "\n",
        "\"\"\"\"\"\""
      ]
    },
    {
      "attachments": {},
      "cell_type": "markdown",
      "metadata": {
        "id": "XE2s_3ZWho05"
      },
      "source": [
        "Testagem da rede\n"
      ]
    },
    {
      "cell_type": "code",
      "execution_count": 150,
      "metadata": {
        "id": "K6B6S_yvhoTR"
      },
      "outputs": [],
      "source": [
        "# the assigned class will be the index with the higher value\n",
        "#@njit(cache=True)\n",
        "def assign_class(output):\n",
        "    return np.argmax(output) + 1\n",
        "\n",
        "# create a confusion matrix\n",
        "\n",
        "\n",
        "# def confusion_matrix():\n",
        "#     return\n",
        "\n",
        "\n",
        "def test_network(is_logistic, weight_hidden, weight_output, data):\n",
        "    # get information from the dataset\n",
        "    num_classes = np.unique(data[:, -1]).size\n",
        "    confusion_matrix = np.zeros((num_classes, num_classes))\n",
        "\n",
        "    num_features = data.shape[1] - 1\n",
        "    sample_size = data.shape[0]\n",
        "    # remove the last column from the inputs list, i.e., remove the class type from inputs\n",
        "    inputs = np.delete(data, len(data[0])-1, 1)\n",
        "\n",
        "    fx, d_fx = choose_curve(is_logistic)\n",
        "    assigned_class = []\n",
        "    true_class = []\n",
        "    count_errors = 0\n",
        "    for i in range(0, sample_size):\n",
        "        # calculate the value for the hidden layer and the output layer\n",
        "        hidden_values = calculate_layer(weight_hidden, fx, inputs[i])\n",
        "        output_values = calculate_layer(weight_output, fx, hidden_values)\n",
        "\n",
        "        # debug output\n",
        "        class_index = assign_class(output_values)\n",
        "        assigned_class.append(class_index)\n",
        "        true_class.append(data[i][-1])\n",
        "        if (true_class[i] != assigned_class[i]):\n",
        "            count_errors += 1\n",
        "        # print(\"Expected: \", true_class[i], \" Attained: \", assigned_class[i])\n",
        "\n",
        "        # debug output\n",
        "        expected_values = calculate_expected_values(\n",
        "            is_logistic, data[i][-1], num_classes)\n",
        "        # print(\"Expected: \")\n",
        "        # print(expected_values)\n",
        "        # print(\"Output: \")\n",
        "      # print(output_values)\n",
        "        confusion_matrix[true_class[i]-1][assigned_class[i]-1] += 1\n",
        "\n",
        "    # print('Matriz de confusão')\n",
        "    plt.matshow(confusion_matrix)\n",
        "    plt.colorbar()\n",
        "    plt.show()\n",
        "\n",
        "    # debug output\n",
        "    print(\"Erros: \")\n",
        "    print(count_errors)\n",
        "    print(\"Total de amostras: \")\n",
        "    print(sample_size)\n",
        "    # print(\"Peso oculta: \"\n",
        "    # print(weight_hidden)\n",
        "   # print(\"Peso saida: \")    # print(weight_output)\n",
        "    return\n"
      ]
    },
    {
      "attachments": {},
      "cell_type": "markdown",
      "metadata": {
        "id": "pABtZ55klCFw"
      },
      "source": [
        "Programa\n"
      ]
    },
    {
      "cell_type": "code",
      "execution_count": 151,
      "metadata": {
        "id": "SS84qE09lBPZ"
      },
      "outputs": [],
      "source": [
        "def backpropagation_algo():\n",
        "    is_logistic = True\n",
        "    # curve = \"logistic\"\n",
        "    data = get_training_data(\"treinamento.csv\")\n",
        "    weight_hidden, weight_output = train_through_data(is_logistic, data)\n",
        "\n",
        "    data = get_training_data(\"teste.csv\")\n",
        "    test_network(is_logistic, weight_hidden, weight_output, data)\n",
        "    return\n"
      ]
    },
    {
      "cell_type": "code",
      "execution_count": 152,
      "metadata": {
        "colab": {
          "base_uri": "https://localhost:8080/"
        },
        "id": "TkCmwncLV5hs",
        "outputId": "cfd1edba-b8c1-49d2-8b8d-0e879cde9470"
      },
      "outputs": [
        {
          "name": "stdout",
          "output_type": "stream",
          "text": [
            "0\n",
            "100\n"
          ]
        },
        {
          "data": {
            "image/png": "[encoded data removed]",
            "text/plain": [
              "<Figure size 480x480 with 2 Axes>"
            ]
          },
          "metadata": {},
          "output_type": "display_data"
        },
        {
          "name": "stdout",
          "output_type": "stream",
          "text": [
            "Erros: \n",
            "0\n",
            "Total de amostras: \n",
            "352\n"
          ]
        }
      ],
      "source": [
        "backpropagation_algo()\n"
      ]
    }
  ],
  "metadata": {
    "colab": {
      "provenance": []
    },
    "kernelspec": {
      "display_name": "Python 3",
      "language": "python",
      "name": "python3"
    },
    "language_info": {
      "codemirror_mode": {
        "name": "ipython",
        "version": 3
      },
      "file_extension": ".py",
      "mimetype": "text/x-python",
      "name": "python",
      "nbconvert_exporter": "python",
      "pygments_lexer": "ipython3",
      "version": "3.10.8"
    },
    "vscode": {
      "interpreter": {
        "hash": "ea9437200182d95efa26cebbb8d9c138f7faf70d27801ebcabc0dc06f6872427"
      }
    }
  },
  "nbformat": 4,
  "nbformat_minor": 0
}
